{
 "cells": [
  {
   "cell_type": "code",
   "execution_count": 1,
   "metadata": {},
   "outputs": [],
   "source": [
    "import numpy as np\n",
    "import pandas as pd\n",
    "from sklearn.model_selection import StratifiedKFold\n",
    "from sklearn.decomposition import PCA\n",
    "from sklearn.preprocessing import normalize\n",
    "from sklearn.model_selection import train_test_split\n",
    "from sklearn.linear_model import LinearRegression\n",
    "from sklearn.metrics import mean_squared_log_error\n",
    "from sklearn.neural_network import MLPRegressor\n",
    "import xgboost\n",
    "import sys\n",
    "\n"
   ]
  },
  {
   "cell_type": "code",
   "execution_count": 2,
   "metadata": {},
   "outputs": [
    {
     "data": {
      "text/plain": [
       "0         13.575119\n",
       "1          7.620630\n",
       "2         17.351515\n",
       "3         11.565624\n",
       "4          8.266305\n",
       "5         18.378170\n",
       "6         12.322993\n",
       "7         11.527788\n",
       "8         14.742289\n",
       "9          4.755297\n",
       "10        14.860185\n",
       "11        27.678043\n",
       "12        19.479949\n",
       "13        14.576476\n",
       "14         7.081564\n",
       "15        12.542844\n",
       "16         7.453252\n",
       "17        14.134526\n",
       "18        17.145101\n",
       "19        15.912103\n",
       "20        71.554924\n",
       "21        23.469116\n",
       "22        17.881361\n",
       "23         0.687058\n",
       "24        30.656268\n",
       "25        14.500328\n",
       "26        12.266605\n",
       "27        13.119129\n",
       "28        11.302103\n",
       "29        29.819246\n",
       "            ...    \n",
       "30441     13.459068\n",
       "30442     29.242588\n",
       "30443     24.450869\n",
       "30444     11.322397\n",
       "30445     25.004226\n",
       "30446     71.012576\n",
       "30447     24.450869\n",
       "30448     68.402944\n",
       "30449     25.004226\n",
       "30450     19.924755\n",
       "30451    534.645955\n",
       "30452     45.339596\n",
       "30453     19.251380\n",
       "30454     14.842129\n",
       "30455     24.925384\n",
       "30456      8.350721\n",
       "30457     84.480123\n",
       "30458     21.368381\n",
       "30459     24.450869\n",
       "30460     14.473533\n",
       "30461     17.619417\n",
       "30462     25.004226\n",
       "30463      8.510351\n",
       "30464      7.447930\n",
       "30465     13.459068\n",
       "30466      8.158093\n",
       "30467      9.374609\n",
       "30468     20.666800\n",
       "30469     24.567748\n",
       "30470      5.455795\n",
       "Name: metro_min_walk, Length: 30471, dtype: float64"
      ]
     },
     "execution_count": 2,
     "metadata": {},
     "output_type": "execute_result"
    }
   ],
   "source": [
    "df_train = pd.read_csv('E:/train.csv')\n",
    "df_test = pd.read_csv('E:/test.csv')\n",
    "df_train['metro_min_walk']"
   ]
  },
  {
   "cell_type": "code",
   "execution_count": 3,
   "metadata": {},
   "outputs": [
    {
     "name": "stdout",
     "output_type": "stream",
     "text": [
      "Index(['railroad_station_avto_km', 'railroad_station_avto_min',\n",
      "       'ID_railroad_station_avto', 'public_transport_station_km',\n",
      "       'public_transport_station_min_walk', 'water_km', 'water_1line',\n",
      "       'mkad_km', 'ttk_km', 'sadovoe_km', 'bulvar_ring_km', 'kremlin_km',\n",
      "       'big_road1_km', 'ID_big_road1', 'big_road1_1line', 'big_road2_km',\n",
      "       'ID_big_road2', 'railroad_km', 'railroad_1line', 'zd_vokzaly_avto_km',\n",
      "       'ID_railroad_terminal', 'bus_terminal_avto_km', 'ID_bus_terminal',\n",
      "       'oil_chemistry_km', 'nuclear_reactor_km', 'radiation_km',\n",
      "       'power_transmission_line_km', 'thermal_power_plant_km', 'ts_km',\n",
      "       'big_market_km', 'market_shop_km', 'fitness_km', 'swim_pool_km',\n",
      "       'ice_rink_km', 'stadium_km', 'basketball_km', 'hospice_morgue_km',\n",
      "       'detention_facility_km', 'public_healthcare_km', 'university_km',\n",
      "       'workplaces_km', 'shopping_centers_km', 'office_km',\n",
      "       'additional_education_km', 'preschool_km', 'big_church_km',\n",
      "       'church_synagogue_km', 'mosque_km', 'theater_km', 'museum_km',\n",
      "       'exhibition_km', 'catering_km', 'ecology', 'green_part_500',\n",
      "       'prom_part_500', 'office_count_500', 'office_sqm_500', 'trc_count_500',\n",
      "       'trc_sqm_500', 'cafe_count_500', 'cafe_sum_500_min_price_avg',\n",
      "       'cafe_sum_500_max_price_avg', 'cafe_avg_price_500',\n",
      "       'cafe_count_500_na_price', 'cafe_count_500_price_500',\n",
      "       'cafe_count_500_price_1000', 'cafe_count_500_price_1500',\n",
      "       'cafe_count_500_price_2500', 'cafe_count_500_price_4000',\n",
      "       'cafe_count_500_price_high', 'big_church_count_500', 'church_count_500',\n",
      "       'mosque_count_500', 'leisure_count_500', 'sport_count_500',\n",
      "       'market_count_500', 'green_part_1000', 'prom_part_1000',\n",
      "       'office_count_1000', 'office_sqm_1000', 'trc_count_1000',\n",
      "       'trc_sqm_1000', 'cafe_count_1000', 'cafe_sum_1000_min_price_avg',\n",
      "       'cafe_sum_1000_max_price_avg', 'cafe_avg_price_1000',\n",
      "       'cafe_count_1000_na_price', 'cafe_count_1000_price_500',\n",
      "       'cafe_count_1000_price_1000', 'cafe_count_1000_price_1500',\n",
      "       'cafe_count_1000_price_2500', 'cafe_count_1000_price_4000',\n",
      "       'cafe_count_1000_price_high', 'big_church_count_1000',\n",
      "       'church_count_1000', 'mosque_count_1000', 'leisure_count_1000',\n",
      "       'sport_count_1000', 'market_count_1000', 'green_part_1500'],\n",
      "      dtype='object')\n"
     ]
    }
   ],
   "source": [
    "print(df_train.columns[100:200])\n"
   ]
  },
  {
   "cell_type": "code",
   "execution_count": 4,
   "metadata": {},
   "outputs": [],
   "source": [
    "feature_list = ['full_sq', 'life_sq', 'floor', 'state','indust_part', \n",
    "       'workplaces_km', 'shopping_centers_km', 'office_km', 'public_transport_station_min_walk','green_zone_part', 'incineration_raion', 'school_education_centers_top_20_raion','metro_min_walk', 'raion_build_count_with_material_info', 'office_raion', 'university_top_20_raion',\n",
    "                'material',  'num_room',   'area_m', 'price_doc', \n",
    "                ]"
   ]
  },
  {
   "cell_type": "code",
   "execution_count": 5,
   "metadata": {},
   "outputs": [],
   "source": [
    "data = df_train[feature_list]\n",
    "feature_test = ['full_sq', 'life_sq', 'floor', 'state', 'indust_part',  \n",
    "       'workplaces_km', 'shopping_centers_km', 'office_km', 'public_transport_station_min_walk', 'green_zone_part', 'incineration_raion', 'school_education_centers_top_20_raion','metro_min_walk',  'raion_build_count_with_material_info', 'office_raion',  'university_top_20_raion', 'material', 'num_room', \n",
    "       'area_m',  ]\n",
    "data_test = df_test[feature_test]\n",
    "sub = pd.Series(df_train['sub_area'])\n",
    "sub_test =  pd.Series(df_test['sub_area'])"
   ]
  },
  {
   "cell_type": "code",
   "execution_count": 6,
   "metadata": {},
   "outputs": [
    {
     "name": "stderr",
     "output_type": "stream",
     "text": [
      "C:\\Users\\virtu\\Anaconda3\\lib\\site-packages\\ipykernel_launcher.py:3: SettingWithCopyWarning: \n",
      "A value is trying to be set on a copy of a slice from a DataFrame.\n",
      "Try using .loc[row_indexer,col_indexer] = value instead\n",
      "\n",
      "See the caveats in the documentation: http://pandas.pydata.org/pandas-docs/stable/indexing.html#indexing-view-versus-copy\n",
      "  This is separate from the ipykernel package so we can avoid doing imports until\n",
      "C:\\Users\\virtu\\Anaconda3\\lib\\site-packages\\ipykernel_launcher.py:6: SettingWithCopyWarning: \n",
      "A value is trying to be set on a copy of a slice from a DataFrame.\n",
      "Try using .loc[row_indexer,col_indexer] = value instead\n",
      "\n",
      "See the caveats in the documentation: http://pandas.pydata.org/pandas-docs/stable/indexing.html#indexing-view-versus-copy\n",
      "  \n",
      "C:\\Users\\virtu\\Anaconda3\\lib\\site-packages\\ipykernel_launcher.py:10: SettingWithCopyWarning: \n",
      "A value is trying to be set on a copy of a slice from a DataFrame.\n",
      "Try using .loc[row_indexer,col_indexer] = value instead\n",
      "\n",
      "See the caveats in the documentation: http://pandas.pydata.org/pandas-docs/stable/indexing.html#indexing-view-versus-copy\n",
      "  # Remove the CWD from sys.path while we load stuff.\n",
      "C:\\Users\\virtu\\Anaconda3\\lib\\site-packages\\ipykernel_launcher.py:11: SettingWithCopyWarning: \n",
      "A value is trying to be set on a copy of a slice from a DataFrame\n",
      "\n",
      "See the caveats in the documentation: http://pandas.pydata.org/pandas-docs/stable/indexing.html#indexing-view-versus-copy\n",
      "  # This is added back by InteractiveShellApp.init_path()\n",
      "C:\\Users\\virtu\\Anaconda3\\lib\\site-packages\\ipykernel_launcher.py:15: SettingWithCopyWarning: \n",
      "A value is trying to be set on a copy of a slice from a DataFrame.\n",
      "Try using .loc[row_indexer,col_indexer] = value instead\n",
      "\n",
      "See the caveats in the documentation: http://pandas.pydata.org/pandas-docs/stable/indexing.html#indexing-view-versus-copy\n",
      "  from ipykernel import kernelapp as app\n"
     ]
    }
   ],
   "source": [
    "data_test = data_test.fillna(data_test.mean())\n",
    "\n",
    "data['shopping_centers_km'] = data['shopping_centers_km']**2\n",
    "data_test['shopping_centers_km'] = data_test['shopping_centers_km']**2\n",
    "\n",
    "data['full_sq'] = data['full_sq']**2\n",
    "data_test['full_sq'] = data_test['full_sq']**2\n",
    "\n",
    "data['raion_build_count_with_material_info'] = data['raion_build_count_with_material_info'].fillna(\n",
    "    data['raion_build_count_with_material_info'].mean())\n",
    "data.dropna(inplace=True, axis=0)\n",
    "sub = sub.astype('category')\n",
    "sub = sub.cat.codes\n",
    "sub\n",
    "data['sub_area'] = sub"
   ]
  },
  {
   "cell_type": "code",
   "execution_count": 7,
   "metadata": {},
   "outputs": [
    {
     "name": "stderr",
     "output_type": "stream",
     "text": [
      "C:\\Users\\virtu\\Anaconda3\\lib\\site-packages\\ipykernel_launcher.py:6: SettingWithCopyWarning: \n",
      "A value is trying to be set on a copy of a slice from a DataFrame.\n",
      "Try using .loc[row_indexer,col_indexer] = value instead\n",
      "\n",
      "See the caveats in the documentation: http://pandas.pydata.org/pandas-docs/stable/indexing.html#indexing-view-versus-copy\n",
      "  \n",
      "C:\\Users\\virtu\\Anaconda3\\lib\\site-packages\\ipykernel_launcher.py:7: SettingWithCopyWarning: \n",
      "A value is trying to be set on a copy of a slice from a DataFrame.\n",
      "Try using .loc[row_indexer,col_indexer] = value instead\n",
      "\n",
      "See the caveats in the documentation: http://pandas.pydata.org/pandas-docs/stable/indexing.html#indexing-view-versus-copy\n",
      "  import sys\n",
      "C:\\Users\\virtu\\Anaconda3\\lib\\site-packages\\ipykernel_launcher.py:11: SettingWithCopyWarning: \n",
      "A value is trying to be set on a copy of a slice from a DataFrame.\n",
      "Try using .loc[row_indexer,col_indexer] = value instead\n",
      "\n",
      "See the caveats in the documentation: http://pandas.pydata.org/pandas-docs/stable/indexing.html#indexing-view-versus-copy\n",
      "  # This is added back by InteractiveShellApp.init_path()\n",
      "C:\\Users\\virtu\\Anaconda3\\lib\\site-packages\\ipykernel_launcher.py:12: SettingWithCopyWarning: \n",
      "A value is trying to be set on a copy of a slice from a DataFrame.\n",
      "Try using .loc[row_indexer,col_indexer] = value instead\n",
      "\n",
      "See the caveats in the documentation: http://pandas.pydata.org/pandas-docs/stable/indexing.html#indexing-view-versus-copy\n",
      "  if sys.path[0] == '':\n",
      "C:\\Users\\virtu\\Anaconda3\\lib\\site-packages\\ipykernel_launcher.py:16: SettingWithCopyWarning: \n",
      "A value is trying to be set on a copy of a slice from a DataFrame.\n",
      "Try using .loc[row_indexer,col_indexer] = value instead\n",
      "\n",
      "See the caveats in the documentation: http://pandas.pydata.org/pandas-docs/stable/indexing.html#indexing-view-versus-copy\n",
      "  app.launch_new_instance()\n",
      "C:\\Users\\virtu\\Anaconda3\\lib\\site-packages\\ipykernel_launcher.py:17: SettingWithCopyWarning: \n",
      "A value is trying to be set on a copy of a slice from a DataFrame.\n",
      "Try using .loc[row_indexer,col_indexer] = value instead\n",
      "\n",
      "See the caveats in the documentation: http://pandas.pydata.org/pandas-docs/stable/indexing.html#indexing-view-versus-copy\n"
     ]
    }
   ],
   "source": [
    "\n",
    "sub_test = sub_test.astype('category')\n",
    "sub_test = sub_test.cat.codes\n",
    "data_test['sub_area'] = sub_test\n",
    "\n",
    "data['state'] = data['state'].astype('category')\n",
    "data['state'] =data['state'].cat.codes\n",
    "data_test['state'] = data_test['state'].astype('category')\n",
    "data_test['state'] =data_test['state'].cat.codes\n",
    "\n",
    "data['office_raion'] = data['office_raion'].astype('category')\n",
    "data['office_raion'] =data['office_raion'].cat.codes\n",
    "data_test['office_raion'] = data_test['office_raion'].astype('category')\n",
    "data_test['office_raion'] =data_test['office_raion'].cat.codes\n",
    "\n",
    "data['incineration_raion'] = data['incineration_raion'].astype('category')\n",
    "data['incineration_raion'] =data['incineration_raion'].cat.codes\n",
    "data_test['incineration_raion'] = data_test['incineration_raion'].astype('category')\n",
    "data_test['incineration_raion'] =data_test['incineration_raion'].cat.codes\n",
    "\n",
    "# data['ecology'] = data['ecology'].astype('category')\n",
    "# data['ecology'] =data['ecology'].cat.codes\n",
    "# data_test['ecology'] = data_test['ecology'].astype('category')\n",
    "# data_test['ecology'] =data_test['ecology'].cat.codes"
   ]
  },
  {
   "cell_type": "code",
   "execution_count": 8,
   "metadata": {},
   "outputs": [
    {
     "data": {
      "text/plain": [
       "Index(['full_sq', 'life_sq', 'floor', 'state', 'indust_part', 'workplaces_km',\n",
       "       'shopping_centers_km', 'office_km', 'public_transport_station_min_walk',\n",
       "       'green_zone_part', 'incineration_raion',\n",
       "       'school_education_centers_top_20_raion', 'metro_min_walk',\n",
       "       'raion_build_count_with_material_info', 'office_raion',\n",
       "       'university_top_20_raion', 'material', 'num_room', 'area_m',\n",
       "       'price_doc', 'sub_area'],\n",
       "      dtype='object')"
      ]
     },
     "execution_count": 8,
     "metadata": {},
     "output_type": "execute_result"
    }
   ],
   "source": [
    "\n",
    "price = data['price_doc']\n",
    "to_drop = ['price_doc']\n",
    "data.columns"
   ]
  },
  {
   "cell_type": "code",
   "execution_count": 9,
   "metadata": {},
   "outputs": [
    {
     "name": "stderr",
     "output_type": "stream",
     "text": [
      "C:\\Users\\virtu\\Anaconda3\\lib\\site-packages\\ipykernel_launcher.py:1: SettingWithCopyWarning: \n",
      "A value is trying to be set on a copy of a slice from a DataFrame\n",
      "\n",
      "See the caveats in the documentation: http://pandas.pydata.org/pandas-docs/stable/indexing.html#indexing-view-versus-copy\n",
      "  \"\"\"Entry point for launching an IPython kernel.\n"
     ]
    }
   ],
   "source": [
    "data.drop(to_drop,inplace=True, axis=1)"
   ]
  },
  {
   "cell_type": "code",
   "execution_count": 10,
   "metadata": {},
   "outputs": [],
   "source": [
    "# normalize(data, norm='max', axis=1, copy=True, return_norm=False)\n",
    "# normalize(data_test, norm='max', axis=1, copy=True, return_norm=False)"
   ]
  },
  {
   "cell_type": "code",
   "execution_count": 11,
   "metadata": {},
   "outputs": [
    {
     "data": {
      "text/plain": [
       "LinearRegression(copy_X=True, fit_intercept=True, n_jobs=1, normalize=False)"
      ]
     },
     "execution_count": 11,
     "metadata": {},
     "output_type": "execute_result"
    }
   ],
   "source": [
    "regressor = LinearRegression(fit_intercept=True, normalize=False, copy_X=True, n_jobs=1)\n",
    "regressor.fit(data, price)\n"
   ]
  },
  {
   "cell_type": "code",
   "execution_count": 12,
   "metadata": {},
   "outputs": [
    {
     "data": {
      "text/plain": [
       "MLPRegressor(activation='relu', alpha=0.0001, batch_size='auto', beta_1=0.9,\n",
       "       beta_2=0.999, early_stopping=False, epsilon=1e-08,\n",
       "       hidden_layer_sizes=(100,), learning_rate='constant',\n",
       "       learning_rate_init=0.001, max_iter=200, momentum=0.9,\n",
       "       nesterovs_momentum=True, power_t=0.5, random_state=None,\n",
       "       shuffle=True, solver='adam', tol=0.0001, validation_fraction=0.1,\n",
       "       verbose=False, warm_start=False)"
      ]
     },
     "execution_count": 12,
     "metadata": {},
     "output_type": "execute_result"
    }
   ],
   "source": [
    "MLP = MLPRegressor(hidden_layer_sizes=(100, ), activation='relu', solver='adam', alpha=0.0001, batch_size='auto', learning_rate='constant', learning_rate_init=0.001, power_t=0.5, max_iter=200, shuffle=True, random_state=None, tol=0.0001, verbose=False, warm_start=False, momentum=0.9, nesterovs_momentum=True, early_stopping=False, validation_fraction=0.1, beta_1=0.9, beta_2=0.999, epsilon=1e-08)\n",
    "MLP.fit(data, price)"
   ]
  },
  {
   "cell_type": "code",
   "execution_count": 13,
   "metadata": {},
   "outputs": [
    {
     "name": "stderr",
     "output_type": "stream",
     "text": [
      "C:\\Users\\virtu\\Anaconda3\\lib\\site-packages\\ipykernel_launcher.py:9: SettingWithCopyWarning: \n",
      "A value is trying to be set on a copy of a slice from a DataFrame.\n",
      "Try using .loc[row_indexer,col_indexer] = value instead\n",
      "\n",
      "See the caveats in the documentation: http://pandas.pydata.org/pandas-docs/stable/indexing.html#indexing-view-versus-copy\n",
      "  if __name__ == '__main__':\n"
     ]
    }
   ],
   "source": [
    "neural = pd.Series(MLP.predict(data))\n",
    "neural_test = pd.Series(MLP.predict(data_test))\n",
    "reg_pred = pd.Series(regressor.predict(data))\n",
    "reg_pred_test = pd.Series(regressor.predict(data_test))\n",
    "# data['neural'] = neural\n",
    "# data_test['neural'] = neural_test\n",
    "# data['reg_pred'] = reg_pred\n",
    "# data_test['reg_pred'] = reg_pred_test\n",
    "data['subtract'] = neural - reg_pred\n",
    "data_test['subtract'] =  neural_test - reg_pred_test"
   ]
  },
  {
   "cell_type": "code",
   "execution_count": 14,
   "metadata": {},
   "outputs": [
    {
     "data": {
      "text/plain": [
       "array([ 5309953. ,  7861468. ,  5306588. , ...,  4276668. ,  5558442.5,\n",
       "       10776906. ], dtype=float32)"
      ]
     },
     "execution_count": 14,
     "metadata": {},
     "output_type": "execute_result"
    }
   ],
   "source": [
    "xgb = xgboost.XGBRegressor(n_estimators=100, learning_rate=0.08, gamma=0, subsample=0.9,\n",
    "                           colsample_bytree=1, max_depth=7)\n",
    "average = 0\n",
    "xgb = xgb.fit(data, price)\n",
    "y_pred = xgb.predict(data_test)\n",
    "y_pred\n"
   ]
  },
  {
   "cell_type": "code",
   "execution_count": null,
   "metadata": {},
   "outputs": [],
   "source": [
    "\n"
   ]
  },
  {
   "cell_type": "code",
   "execution_count": null,
   "metadata": {},
   "outputs": [],
   "source": []
  },
  {
   "cell_type": "code",
   "execution_count": 16,
   "metadata": {},
   "outputs": [],
   "source": [
    "my_submission = pd.DataFrame({'Id': df_test.id, 'price_doc': y_pred})\n",
    "# you could use any filename. We choose submission here\n",
    "my_submission.to_csv('submission.csv', index=False)"
    
   ]
  },
  {
   "cell_type": "code",
   "execution_count": null,
   "metadata": {},
   "outputs": [],
   "source": []
  },
  {
   "cell_type": "code",
   "execution_count": null,
   "metadata": {},
   "outputs": [],
   "source": []
  },
  {
   "cell_type": "code",
   "execution_count": null,
   "metadata": {},
   "outputs": [],
   "source": []
  },
  {
   "cell_type": "code",
   "execution_count": null,
   "metadata": {},
   "outputs": [],
   "source": []
  },
  {
   "cell_type": "code",
   "execution_count": null,
   "metadata": {},
   "outputs": [],
   "source": []
  },
  {
   "cell_type": "code",
   "execution_count": null,
   "metadata": {},
   "outputs": [],
   "source": []
  },
  {
   "cell_type": "code",
   "execution_count": null,
   "metadata": {},
   "outputs": [],
   "source": []
  }
 ],
 "metadata": {
  "kernelspec": {
   "display_name": "Python 3",
   "language": "python",
   "name": "python3"
  },
  "language_info": {
   "codemirror_mode": {
    "name": "ipython",
    "version": 3
   },
   "file_extension": ".py",
   "mimetype": "text/x-python",
   "name": "python",
   "nbconvert_exporter": "python",
   "pygments_lexer": "ipython3",
   "version": "3.6.4"
  }
 },
 "nbformat": 4,
 "nbformat_minor": 2
}
